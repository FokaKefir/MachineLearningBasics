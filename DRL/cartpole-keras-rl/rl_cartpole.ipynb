{
 "cells": [
  {
   "cell_type": "markdown",
   "metadata": {},
   "source": [
    "# 1. Test Random Environment with OpenAI GYM"
   ]
  },
  {
   "cell_type": "code",
   "execution_count": 1,
   "metadata": {},
   "outputs": [],
   "source": [
    "import gym \n",
    "import random"
   ]
  },
  {
   "cell_type": "code",
   "execution_count": 3,
   "metadata": {},
   "outputs": [],
   "source": [
    "env = gym.make('CartPole-v1')\n",
    "states = env.observation_space.shape[0]\n",
    "actions = env.action_space.n"
   ]
  },
  {
   "cell_type": "code",
   "execution_count": 4,
   "metadata": {},
   "outputs": [
    {
     "data": {
      "text/plain": [
       "(4, 2)"
      ]
     },
     "execution_count": 4,
     "metadata": {},
     "output_type": "execute_result"
    }
   ],
   "source": [
    "states, actions"
   ]
  },
  {
   "cell_type": "code",
   "execution_count": 6,
   "metadata": {},
   "outputs": [
    {
     "name": "stdout",
     "output_type": "stream",
     "text": [
      "Episode: 1, Score: 14.0\n",
      "Episode: 2, Score: 22.0\n",
      "Episode: 3, Score: 33.0\n",
      "Episode: 4, Score: 37.0\n",
      "Episode: 5, Score: 14.0\n",
      "Episode: 6, Score: 43.0\n",
      "Episode: 7, Score: 13.0\n",
      "Episode: 8, Score: 26.0\n",
      "Episode: 9, Score: 45.0\n",
      "Episode: 10, Score: 23.0\n"
     ]
    }
   ],
   "source": [
    "episodes = 10\n",
    "for e in range(1, episodes + 1):\n",
    "    state = env.reset()\n",
    "    done = False\n",
    "    score = 0\n",
    "    while not done:\n",
    "        env.render()\n",
    "        action = random.choice([0, 1])\n",
    "        next_step, reward, done, info =  env.step(action)\n",
    "        score += reward\n",
    "    \n",
    "    print(f\"Episode: {e}, Score: {score}\")"
   ]
  },
  {
   "cell_type": "markdown",
   "metadata": {},
   "source": [
    "# 2. Create a Deep Learning Model with Keras"
   ]
  },
  {
   "cell_type": "code",
   "execution_count": 19,
   "metadata": {},
   "outputs": [],
   "source": [
    "import numpy as np \n",
    "from tensorflow.keras.layers import Dense, Flatten \n",
    "from tensorflow.keras.models import Sequential\n",
    "from tensorflow.keras.optimizers.legacy import Adam"
   ]
  },
  {
   "cell_type": "code",
   "execution_count": 8,
   "metadata": {},
   "outputs": [],
   "source": [
    "def build_model(states, actions):\n",
    "    model = Sequential()\n",
    "    model.add(Flatten(input_shape=(1, states)))\n",
    "    model.add(Dense(24,  activation='relu'))\n",
    "    model.add(Dense(24, activation='relu'))\n",
    "    model.add(Dense(actions, activation='linear'))\n",
    "    return model"
   ]
  },
  {
   "cell_type": "code",
   "execution_count": 16,
   "metadata": {},
   "outputs": [],
   "source": [
    "model = build_model(states, actions)"
   ]
  },
  {
   "cell_type": "code",
   "execution_count": null,
   "metadata": {},
   "outputs": [],
   "source": [
    "del model"
   ]
  },
  {
   "cell_type": "code",
   "execution_count": 10,
   "metadata": {},
   "outputs": [
    {
     "name": "stdout",
     "output_type": "stream",
     "text": [
      "Model: \"sequential\"\n",
      "_________________________________________________________________\n",
      " Layer (type)                Output Shape              Param #   \n",
      "=================================================================\n",
      " flatten (Flatten)           (None, 4)                 0         \n",
      "                                                                 \n",
      " dense (Dense)               (None, 24)                120       \n",
      "                                                                 \n",
      " dense_1 (Dense)             (None, 24)                600       \n",
      "                                                                 \n",
      " dense_2 (Dense)             (None, 2)                 50        \n",
      "                                                                 \n",
      "=================================================================\n",
      "Total params: 770\n",
      "Trainable params: 770\n",
      "Non-trainable params: 0\n",
      "_________________________________________________________________\n"
     ]
    }
   ],
   "source": [
    "model.summary()"
   ]
  },
  {
   "cell_type": "markdown",
   "metadata": {},
   "source": [
    "# 3. Build Agent with Keras-RL"
   ]
  },
  {
   "cell_type": "code",
   "execution_count": 11,
   "metadata": {},
   "outputs": [],
   "source": [
    "from rl.agents import DQNAgent\n",
    "from rl.policy import BoltzmannQPolicy\n",
    "from rl.memory import SequentialMemory"
   ]
  },
  {
   "cell_type": "code",
   "execution_count": 12,
   "metadata": {},
   "outputs": [],
   "source": [
    "def build_agent(model, actions):\n",
    "    policy = BoltzmannQPolicy()\n",
    "    memory = SequentialMemory(limit=50000, window_length=1)\n",
    "    dqn = DQNAgent(\n",
    "        model=model,\n",
    "        memory=memory,\n",
    "        policy=policy,\n",
    "        nb_actions=actions, \n",
    "        nb_steps_warmup=10,\n",
    "        target_model_update=1e-2\n",
    "    )\n",
    "    return dqn"
   ]
  },
  {
   "cell_type": "code",
   "execution_count": 20,
   "metadata": {},
   "outputs": [],
   "source": [
    "dqn = build_agent(model, actions)\n",
    "dqn.compile(\n",
    "    optimizer=Adam(learning_rate=1e-3),\n",
    "    metrics=['mae']\n",
    ")"
   ]
  },
  {
   "cell_type": "code",
   "execution_count": 21,
   "metadata": {},
   "outputs": [
    {
     "name": "stdout",
     "output_type": "stream",
     "text": [
      "Training for 50000 steps ...\n",
      "Interval 1 (0 steps performed)\n",
      "    1/10000 [..............................] - ETA: 22:05 - reward: 1.0000"
     ]
    },
    {
     "name": "stderr",
     "output_type": "stream",
     "text": [
      "c:\\Users\\david\\OneDrive\\Documents\\dogzilla-robot-dog-2023\\ml\\lib\\site-packages\\keras\\engine\\training_v1.py:2359: UserWarning: `Model.state_updates` will be removed in a future version. This property should not be used in TensorFlow 2.0, as `updates` are applied automatically.\n",
      "  updates=self.state_updates,\n",
      "c:\\Users\\david\\OneDrive\\Documents\\dogzilla-robot-dog-2023\\ml\\lib\\site-packages\\rl\\memory.py:37: UserWarning: Not enough entries to sample without replacement. Consider increasing your warm-up phase to avoid oversampling!\n",
      "  warnings.warn('Not enough entries to sample without replacement. Consider increasing your warm-up phase to avoid oversampling!')\n"
     ]
    },
    {
     "name": "stdout",
     "output_type": "stream",
     "text": [
      "10000/10000 [==============================] - 150s 15ms/step - reward: 1.0000\n",
      "101 episodes - episode_reward: 98.208 [10.000, 442.000] - loss: 2.017 - mae: 19.301 - mean_q: 39.119\n",
      "\n",
      "Interval 2 (10000 steps performed)\n",
      "10000/10000 [==============================] - 150s 15ms/step - reward: 1.0000\n",
      "46 episodes - episode_reward: 214.848 [158.000, 318.000] - loss: 2.496 - mae: 40.726 - mean_q: 82.340\n",
      "\n",
      "Interval 3 (20000 steps performed)\n",
      "10000/10000 [==============================] - 115s 12ms/step - reward: 1.0000\n",
      "44 episodes - episode_reward: 229.000 [169.000, 332.000] - loss: 2.221 - mae: 44.576 - mean_q: 90.036\n",
      "\n",
      "Interval 4 (30000 steps performed)\n",
      "10000/10000 [==============================] - 147s 15ms/step - reward: 1.0000\n",
      "44 episodes - episode_reward: 227.023 [131.000, 500.000] - loss: 2.398 - mae: 46.192 - mean_q: 93.134\n",
      "\n",
      "Interval 5 (40000 steps performed)\n",
      "10000/10000 [==============================] - 90s 9ms/step - reward: 1.0000\n",
      "done, took 651.755 seconds\n"
     ]
    },
    {
     "data": {
      "text/plain": [
       "<keras.callbacks.History at 0x25c47274340>"
      ]
     },
     "execution_count": 21,
     "metadata": {},
     "output_type": "execute_result"
    }
   ],
   "source": [
    "dqn.fit(\n",
    "    env, nb_steps=50000,\n",
    "    visualize=False,\n",
    "    verbose=1\n",
    ")"
   ]
  },
  {
   "cell_type": "code",
   "execution_count": 22,
   "metadata": {},
   "outputs": [
    {
     "name": "stdout",
     "output_type": "stream",
     "text": [
      "Testing for 100 episodes ...\n",
      "Episode 1: reward: 500.000, steps: 500\n",
      "Episode 2: reward: 500.000, steps: 500\n",
      "Episode 3: reward: 500.000, steps: 500\n",
      "Episode 4: reward: 500.000, steps: 500\n",
      "Episode 5: reward: 500.000, steps: 500\n",
      "Episode 6: reward: 500.000, steps: 500\n",
      "Episode 7: reward: 500.000, steps: 500\n",
      "Episode 8: reward: 500.000, steps: 500\n",
      "Episode 9: reward: 500.000, steps: 500\n",
      "Episode 10: reward: 500.000, steps: 500\n",
      "Episode 11: reward: 500.000, steps: 500\n",
      "Episode 12: reward: 482.000, steps: 482\n",
      "Episode 13: reward: 500.000, steps: 500\n",
      "Episode 14: reward: 500.000, steps: 500\n",
      "Episode 15: reward: 500.000, steps: 500\n",
      "Episode 16: reward: 500.000, steps: 500\n",
      "Episode 17: reward: 500.000, steps: 500\n",
      "Episode 18: reward: 500.000, steps: 500\n",
      "Episode 19: reward: 500.000, steps: 500\n",
      "Episode 20: reward: 500.000, steps: 500\n",
      "Episode 21: reward: 500.000, steps: 500\n",
      "Episode 22: reward: 500.000, steps: 500\n",
      "Episode 23: reward: 500.000, steps: 500\n",
      "Episode 24: reward: 500.000, steps: 500\n",
      "Episode 25: reward: 500.000, steps: 500\n",
      "Episode 26: reward: 500.000, steps: 500\n",
      "Episode 27: reward: 500.000, steps: 500\n",
      "Episode 28: reward: 500.000, steps: 500\n",
      "Episode 29: reward: 500.000, steps: 500\n",
      "Episode 30: reward: 500.000, steps: 500\n",
      "Episode 31: reward: 500.000, steps: 500\n",
      "Episode 32: reward: 500.000, steps: 500\n",
      "Episode 33: reward: 468.000, steps: 468\n",
      "Episode 34: reward: 500.000, steps: 500\n",
      "Episode 35: reward: 500.000, steps: 500\n",
      "Episode 36: reward: 500.000, steps: 500\n",
      "Episode 37: reward: 500.000, steps: 500\n",
      "Episode 38: reward: 500.000, steps: 500\n",
      "Episode 39: reward: 500.000, steps: 500\n",
      "Episode 40: reward: 500.000, steps: 500\n",
      "Episode 41: reward: 500.000, steps: 500\n",
      "Episode 42: reward: 500.000, steps: 500\n",
      "Episode 43: reward: 500.000, steps: 500\n",
      "Episode 44: reward: 500.000, steps: 500\n",
      "Episode 45: reward: 500.000, steps: 500\n",
      "Episode 46: reward: 500.000, steps: 500\n",
      "Episode 47: reward: 500.000, steps: 500\n",
      "Episode 48: reward: 500.000, steps: 500\n",
      "Episode 49: reward: 500.000, steps: 500\n",
      "Episode 50: reward: 500.000, steps: 500\n",
      "Episode 51: reward: 500.000, steps: 500\n",
      "Episode 52: reward: 500.000, steps: 500\n",
      "Episode 53: reward: 500.000, steps: 500\n",
      "Episode 54: reward: 500.000, steps: 500\n",
      "Episode 55: reward: 500.000, steps: 500\n",
      "Episode 56: reward: 500.000, steps: 500\n",
      "Episode 57: reward: 500.000, steps: 500\n",
      "Episode 58: reward: 500.000, steps: 500\n",
      "Episode 59: reward: 500.000, steps: 500\n",
      "Episode 60: reward: 500.000, steps: 500\n",
      "Episode 61: reward: 500.000, steps: 500\n",
      "Episode 62: reward: 500.000, steps: 500\n",
      "Episode 63: reward: 500.000, steps: 500\n",
      "Episode 64: reward: 500.000, steps: 500\n",
      "Episode 65: reward: 500.000, steps: 500\n",
      "Episode 66: reward: 500.000, steps: 500\n",
      "Episode 67: reward: 500.000, steps: 500\n",
      "Episode 68: reward: 500.000, steps: 500\n",
      "Episode 69: reward: 500.000, steps: 500\n",
      "Episode 70: reward: 500.000, steps: 500\n",
      "Episode 71: reward: 500.000, steps: 500\n",
      "Episode 72: reward: 500.000, steps: 500\n",
      "Episode 73: reward: 500.000, steps: 500\n",
      "Episode 74: reward: 500.000, steps: 500\n",
      "Episode 75: reward: 500.000, steps: 500\n",
      "Episode 76: reward: 500.000, steps: 500\n",
      "Episode 77: reward: 500.000, steps: 500\n",
      "Episode 78: reward: 500.000, steps: 500\n",
      "Episode 79: reward: 500.000, steps: 500\n",
      "Episode 80: reward: 500.000, steps: 500\n",
      "Episode 81: reward: 500.000, steps: 500\n",
      "Episode 82: reward: 449.000, steps: 449\n",
      "Episode 83: reward: 500.000, steps: 500\n",
      "Episode 84: reward: 500.000, steps: 500\n",
      "Episode 85: reward: 500.000, steps: 500\n",
      "Episode 86: reward: 500.000, steps: 500\n",
      "Episode 87: reward: 500.000, steps: 500\n",
      "Episode 88: reward: 500.000, steps: 500\n",
      "Episode 89: reward: 500.000, steps: 500\n",
      "Episode 90: reward: 500.000, steps: 500\n",
      "Episode 91: reward: 500.000, steps: 500\n",
      "Episode 92: reward: 475.000, steps: 475\n",
      "Episode 93: reward: 500.000, steps: 500\n",
      "Episode 94: reward: 500.000, steps: 500\n",
      "Episode 95: reward: 500.000, steps: 500\n",
      "Episode 96: reward: 500.000, steps: 500\n",
      "Episode 97: reward: 500.000, steps: 500\n",
      "Episode 98: reward: 500.000, steps: 500\n",
      "Episode 99: reward: 500.000, steps: 500\n",
      "Episode 100: reward: 500.000, steps: 500\n"
     ]
    },
    {
     "ename": "KeyError",
     "evalue": "'episod_reward'",
     "output_type": "error",
     "traceback": [
      "\u001b[1;31m---------------------------------------------------------------------------\u001b[0m",
      "\u001b[1;31mKeyError\u001b[0m                                  Traceback (most recent call last)",
      "Cell \u001b[1;32mIn[22], line 2\u001b[0m\n\u001b[0;32m      1\u001b[0m scores \u001b[39m=\u001b[39m dqn\u001b[39m.\u001b[39mtest(env, nb_episodes\u001b[39m=\u001b[39m\u001b[39m100\u001b[39m, visualize\u001b[39m=\u001b[39m\u001b[39mFalse\u001b[39;00m)\n\u001b[1;32m----> 2\u001b[0m \u001b[39mprint\u001b[39m(np\u001b[39m.\u001b[39mmean(scores\u001b[39m.\u001b[39;49mhistory[\u001b[39m'\u001b[39;49m\u001b[39mepisod_reward\u001b[39;49m\u001b[39m'\u001b[39;49m]))\n",
      "\u001b[1;31mKeyError\u001b[0m: 'episod_reward'"
     ]
    }
   ],
   "source": [
    "scores = dqn.test(env, nb_episodes=100, visualize=False)"
   ]
  },
  {
   "cell_type": "code",
   "execution_count": 24,
   "metadata": {},
   "outputs": [
    {
     "name": "stdout",
     "output_type": "stream",
     "text": [
      "498.74\n"
     ]
    }
   ],
   "source": [
    "print(np.mean(scores.history['episode_reward']))"
   ]
  },
  {
   "cell_type": "code",
   "execution_count": 25,
   "metadata": {},
   "outputs": [
    {
     "name": "stdout",
     "output_type": "stream",
     "text": [
      "Testing for 5 episodes ...\n",
      "Episode 1: reward: 500.000, steps: 500\n",
      "Episode 2: reward: 500.000, steps: 500\n",
      "Episode 3: reward: 500.000, steps: 500\n",
      "Episode 4: reward: 500.000, steps: 500\n",
      "Episode 5: reward: 500.000, steps: 500\n"
     ]
    }
   ],
   "source": [
    "_ = dqn.test(env, nb_episodes=5, visualize=True)"
   ]
  },
  {
   "cell_type": "markdown",
   "metadata": {},
   "source": [
    "# 4. Reload Agent from Memory"
   ]
  },
  {
   "cell_type": "code",
   "execution_count": 28,
   "metadata": {},
   "outputs": [],
   "source": [
    "dqn.save_weights('dqn_weights.h5f', overwrite=True)"
   ]
  },
  {
   "cell_type": "code",
   "execution_count": 29,
   "metadata": {},
   "outputs": [],
   "source": [
    "del env\n",
    "del model\n",
    "del dqn"
   ]
  },
  {
   "cell_type": "code",
   "execution_count": 33,
   "metadata": {},
   "outputs": [],
   "source": [
    "env = gym.make('CartPole-v1')\n",
    "states = env.observation_space.shape[0]\n",
    "actions = env.action_space.n\n",
    "model = build_model(states, actions)\n",
    "dqn = build_agent(model, actions)\n",
    "dqn.compile(Adam(learning_rate=1e-3), metrics=['mae'])"
   ]
  },
  {
   "cell_type": "code",
   "execution_count": 34,
   "metadata": {},
   "outputs": [],
   "source": [
    "dqn.load_weights('dqn_weights.h5f')"
   ]
  },
  {
   "cell_type": "code",
   "execution_count": 35,
   "metadata": {},
   "outputs": [
    {
     "name": "stdout",
     "output_type": "stream",
     "text": [
      "Testing for 3 episodes ...\n"
     ]
    },
    {
     "name": "stderr",
     "output_type": "stream",
     "text": [
      "c:\\Users\\david\\OneDrive\\Documents\\dogzilla-robot-dog-2023\\ml\\lib\\site-packages\\keras\\engine\\training_v1.py:2359: UserWarning: `Model.state_updates` will be removed in a future version. This property should not be used in TensorFlow 2.0, as `updates` are applied automatically.\n",
      "  updates=self.state_updates,\n",
      "Exception ignored in: <function Viewer.__del__ at 0x0000025C288D6EF0>\n",
      "Traceback (most recent call last):\n",
      "  File \"c:\\Users\\david\\OneDrive\\Documents\\dogzilla-robot-dog-2023\\ml\\lib\\site-packages\\gym\\envs\\classic_control\\rendering.py\", line 165, in __del__\n",
      "    self.close()\n",
      "  File \"c:\\Users\\david\\OneDrive\\Documents\\dogzilla-robot-dog-2023\\ml\\lib\\site-packages\\gym\\envs\\classic_control\\rendering.py\", line 83, in close\n",
      "    self.window.close()\n",
      "  File \"c:\\Users\\david\\OneDrive\\Documents\\dogzilla-robot-dog-2023\\ml\\lib\\site-packages\\pyglet\\window\\win32\\__init__.py\", line 299, in close\n",
      "    super(Win32Window, self).close()\n",
      "  File \"c:\\Users\\david\\OneDrive\\Documents\\dogzilla-robot-dog-2023\\ml\\lib\\site-packages\\pyglet\\window\\__init__.py\", line 823, in close\n",
      "    app.windows.remove(self)\n",
      "  File \"C:\\Program Files\\WindowsApps\\PythonSoftwareFoundation.Python.3.10_3.10.3056.0_x64__qbz5n2kfra8p0\\lib\\_weakrefset.py\", line 114, in remove\n",
      "    self.data.remove(ref(item))\n",
      "KeyError: <weakref at 0x0000025C288A4630; to 'Win32Window' at 0x0000025C27B99840>\n"
     ]
    },
    {
     "name": "stdout",
     "output_type": "stream",
     "text": [
      "Episode 1: reward: 500.000, steps: 500\n",
      "Episode 2: reward: 500.000, steps: 500\n",
      "Episode 3: reward: 500.000, steps: 500\n"
     ]
    },
    {
     "data": {
      "text/plain": [
       "<keras.callbacks.History at 0x25c49315210>"
      ]
     },
     "execution_count": 35,
     "metadata": {},
     "output_type": "execute_result"
    }
   ],
   "source": [
    "dqn.test(env, nb_episodes=3, visualize=True)"
   ]
  },
  {
   "cell_type": "code",
   "execution_count": 36,
   "metadata": {},
   "outputs": [],
   "source": [
    "env.close()"
   ]
  },
  {
   "cell_type": "code",
   "execution_count": null,
   "metadata": {},
   "outputs": [],
   "source": []
  }
 ],
 "metadata": {
  "kernelspec": {
   "display_name": "ml",
   "language": "python",
   "name": "python3"
  },
  "language_info": {
   "codemirror_mode": {
    "name": "ipython",
    "version": 3
   },
   "file_extension": ".py",
   "mimetype": "text/x-python",
   "name": "python",
   "nbconvert_exporter": "python",
   "pygments_lexer": "ipython3",
   "version": "3.10.11"
  },
  "orig_nbformat": 4
 },
 "nbformat": 4,
 "nbformat_minor": 2
}
